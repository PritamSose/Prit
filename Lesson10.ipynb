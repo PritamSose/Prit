{
  "nbformat": 4,
  "nbformat_minor": 0,
  "metadata": {
    "colab": {
      "provenance": []
    },
    "kernelspec": {
      "name": "python3",
      "display_name": "Python 3"
    },
    "language_info": {
      "name": "python"
    }
  },
  "cells": [
    {
      "cell_type": "code",
      "execution_count": 16,
      "metadata": {
        "id": "ieaBN8uEspBq",
        "colab": {
          "base_uri": "https://localhost:8080/"
        },
        "outputId": "7b12e03a-e31e-4422-806c-d0a060826ecc"
      },
      "outputs": [
        {
          "output_type": "stream",
          "name": "stdout",
          "text": [
            "\u001b[31mERROR: Could not find a version that satisfies the requirement vcf (from versions: none)\u001b[0m\u001b[31m\n",
            "\u001b[0m\u001b[31mERROR: No matching distribution found for vcf\u001b[0m\u001b[31m\n",
            "\u001b[0mRequirement already satisfied: pandas in /usr/local/lib/python3.10/dist-packages (2.1.4)\n",
            "Requirement already satisfied: numpy<2,>=1.22.4 in /usr/local/lib/python3.10/dist-packages (from pandas) (1.26.4)\n",
            "Requirement already satisfied: python-dateutil>=2.8.2 in /usr/local/lib/python3.10/dist-packages (from pandas) (2.8.2)\n",
            "Requirement already satisfied: pytz>=2020.1 in /usr/local/lib/python3.10/dist-packages (from pandas) (2024.1)\n",
            "Requirement already satisfied: tzdata>=2022.1 in /usr/local/lib/python3.10/dist-packages (from pandas) (2024.1)\n",
            "Requirement already satisfied: six>=1.5 in /usr/local/lib/python3.10/dist-packages (from python-dateutil>=2.8.2->pandas) (1.16.0)\n",
            "Requirement already satisfied: biopython in /usr/local/lib/python3.10/dist-packages (1.84)\n",
            "Requirement already satisfied: numpy in /usr/local/lib/python3.10/dist-packages (from biopython) (1.26.4)\n",
            "Requirement already satisfied: pysam in /usr/local/lib/python3.10/dist-packages (0.22.1)\n",
            "Requirement already satisfied: cyvcf2 in /usr/local/lib/python3.10/dist-packages (0.31.1)\n",
            "Requirement already satisfied: numpy>=1.16.0 in /usr/local/lib/python3.10/dist-packages (from cyvcf2) (1.26.4)\n",
            "Requirement already satisfied: coloredlogs in /usr/local/lib/python3.10/dist-packages (from cyvcf2) (15.0.1)\n",
            "Requirement already satisfied: click in /usr/local/lib/python3.10/dist-packages (from cyvcf2) (8.1.7)\n",
            "Requirement already satisfied: humanfriendly>=9.1 in /usr/local/lib/python3.10/dist-packages (from coloredlogs->cyvcf2) (10.0)\n"
          ]
        }
      ],
      "source": [
        "#Convert VCF to Excel with flanking sequences\n",
        "!pip install vcf\n",
        "!pip install pandas\n",
        "!pip install biopython\n",
        "!pip install pysam cyvcf2\n",
        "\n",
        "import pandas as pd\n",
        "from Bio import SeqIO\n",
        "import pysam\n",
        "from cyvcf2 import VCF\n",
        "\n",
        "\n",
        "\n",
        "vcf_reader = VCF(\"/content/x2.vcf\")\n",
        "reference_fasta = \"/content/sequence (3).fasta\"\n",
        "reference_sequences = SeqIO.to_dict(SeqIO.parse(reference_fasta, \"fasta\"))\n",
        "variants_with_flanks = []\n",
        "\n",
        "# Iterate through VCF records\n",
        "for record in vcf_reader: # Added for loop\n",
        "    chrom = record.CHROM\n",
        "    if chrom == \"SL3.0ch02\":\n",
        "        break # Exit loop if chromosome is SL3.0ch02\n",
        "    pos = record.POS\n",
        "    ref = record.REF\n",
        "    alt = \",\".join(record.ALT)\n",
        "\n",
        "    # Calculate start and end positions for flanking sequence\n",
        "    start = max(0,pos - 60)\n",
        "    end = pos + 60 + len(ref)\n",
        "\n",
        "    # Extract flanking sequence\n",
        "    # Use slicing on the sequence object, not on the integer indices\n",
        "    flanking_sequence = f\"{reference_sequences[chrom].seq[start:start + 61]}[{ref}/{alt}]{reference_sequences[chrom].seq[end - 59:end]}\"\n",
        "\n",
        "\n",
        "    # Create variant dictionary and append to list\n",
        "    variant_with_flank = {\n",
        "        'CHROM': chrom,\n",
        "        'POS': pos,\n",
        "        'REF': ref,\n",
        "        'ALT': alt,\n",
        "        'Flanking_Sequence': str(flanking_sequence),\n",
        "    }\n",
        "    variants_with_flanks.append(variant_with_flank)\n",
        "\n",
        "# Create DataFrame and save to Excel\n",
        "df = pd.DataFrame(variants_with_flanks)\n",
        "df.to_excel(\"variants_with_flanks6.xlsx\", index=False)"
      ]
    }
  ]
}