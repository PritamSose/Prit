{
  "cells": [
    {
      "cell_type": "markdown",
      "id": "10b497d8",
      "metadata": {
        "id": "10b497d8"
      },
      "source": [
        "# Mpox Genome Analysis using Biopython"
      ]
    },
    {
      "cell_type": "markdown",
      "id": "f857fb09",
      "metadata": {
        "id": "f857fb09"
      },
      "source": [
        "### Fetch Mpox Genome from NCBI\n",
        "**NC_063383** - Mpox genome used here was sequenced from a sample"
      ]
    },
    {
      "cell_type": "code",
      "execution_count": 1,
      "id": "82bdd4f2",
      "metadata": {
        "colab": {
          "base_uri": "https://localhost:8080/"
        },
        "id": "82bdd4f2",
        "outputId": "377c9ca1-9409-46ee-9555-efce97fb8d08"
      },
      "outputs": [
        {
          "output_type": "stream",
          "name": "stdout",
          "text": [
            "Collecting Biopython\n",
            "  Downloading biopython-1.84-cp310-cp310-manylinux_2_17_x86_64.manylinux2014_x86_64.whl.metadata (12 kB)\n",
            "Requirement already satisfied: numpy in /usr/local/lib/python3.10/dist-packages (from Biopython) (1.26.4)\n",
            "Downloading biopython-1.84-cp310-cp310-manylinux_2_17_x86_64.manylinux2014_x86_64.whl (3.2 MB)\n",
            "\u001b[2K   \u001b[90m━━━━━━━━━━━━━━━━━━━━━━━━━━━━━━━━━━━━━━━━\u001b[0m \u001b[32m3.2/3.2 MB\u001b[0m \u001b[31m11.4 MB/s\u001b[0m eta \u001b[36m0:00:00\u001b[0m\n",
            "\u001b[?25hInstalling collected packages: Biopython\n",
            "Successfully installed Biopython-1.84\n"
          ]
        }
      ],
      "source": [
        "!pip install Biopython\n",
        "from Bio import Entrez, SeqIO\n",
        "Entrez.email = \"\"\n",
        "handle = Entrez.efetch(db=\"nucleotide\", id=\"NC_063383\", rettype=\"gb\", retmode=\"text\")\n",
        "recs = list(SeqIO.parse(handle, 'gb'))\n",
        "handle.close()"
      ]
    },
    {
      "cell_type": "code",
      "execution_count": 2,
      "id": "5f454bae",
      "metadata": {
        "colab": {
          "base_uri": "https://localhost:8080/"
        },
        "id": "5f454bae",
        "outputId": "5bd443bf-ef67-44a6-f038-ec7434568034"
      },
      "outputs": [
        {
          "output_type": "execute_result",
          "data": {
            "text/plain": [
              "[SeqRecord(seq=Seq('ATTTTACTATTTTATTTAGTGTCTAGAAAAAAATGTGTGACCCACGACCGTAGG...AAT'), id='NC_063383.1', name='NC_063383', description='Monkeypox virus, complete genome', dbxrefs=['BioProject:PRJNA485481'])]"
            ]
          },
          "metadata": {},
          "execution_count": 2
        }
      ],
      "source": [
        "recs"
      ]
    },
    {
      "cell_type": "code",
      "execution_count": 3,
      "id": "6012639b",
      "metadata": {
        "id": "6012639b"
      },
      "outputs": [],
      "source": [
        "Mpox_dna = recs[0].seq"
      ]
    },
    {
      "cell_type": "code",
      "execution_count": 4,
      "id": "abdf293b",
      "metadata": {
        "colab": {
          "base_uri": "https://localhost:8080/"
        },
        "id": "abdf293b",
        "outputId": "ff76172d-57eb-4a72-f014-554853b2653e"
      },
      "outputs": [
        {
          "output_type": "execute_result",
          "data": {
            "text/plain": [
              "Seq('ATTTTACTATTTTATTTAGTGTCTAGAAAAAAATGTGTGACCCACGACCGTAGG...AAT')"
            ]
          },
          "metadata": {},
          "execution_count": 4
        }
      ],
      "source": [
        "Mpox_dna"
      ]
    },
    {
      "cell_type": "code",
      "execution_count": 5,
      "id": "f4e53b92",
      "metadata": {
        "colab": {
          "base_uri": "https://localhost:8080/"
        },
        "id": "f4e53b92",
        "outputId": "cdafe9ed-3ba4-4eed-e5f2-8dbb6504b035"
      },
      "outputs": [
        {
          "output_type": "stream",
          "name": "stdout",
          "text": [
            "The genome of Mpox consists of 197209 nucleotides.\n"
          ]
        }
      ],
      "source": [
        "print(f'The genome of Mpox consists of {len(Mpox_dna)} nucleotides.')"
      ]
    },
    {
      "cell_type": "code",
      "source": [],
      "metadata": {
        "id": "4v6ispWJc1gU"
      },
      "id": "4v6ispWJc1gU",
      "execution_count": null,
      "outputs": []
    },
    {
      "cell_type": "code",
      "execution_count": 6,
      "id": "2717de75",
      "metadata": {
        "colab": {
          "base_uri": "https://localhost:8080/"
        },
        "id": "2717de75",
        "outputId": "415f6d14-cd19-4160-c903-b9020c6c004b"
      },
      "outputs": [
        {
          "output_type": "execute_result",
          "data": {
            "text/plain": [
              "60910683.70525165"
            ]
          },
          "metadata": {},
          "execution_count": 6
        }
      ],
      "source": [
        "# molecular weight\n",
        "from Bio.SeqUtils import molecular_weight\n",
        "molecular_weight(Mpox_dna)"
      ]
    },
    {
      "cell_type": "code",
      "execution_count": 7,
      "id": "15a52c3b",
      "metadata": {
        "colab": {
          "base_uri": "https://localhost:8080/"
        },
        "id": "15a52c3b",
        "outputId": "38d16b5c-8281-40c1-b49b-cb0726d6491a"
      },
      "outputs": [
        {
          "output_type": "stream",
          "name": "stdout",
          "text": [
            "The GC content of Mpox genome is <function gc_fraction at 0x7e8c5c9863b0>%\n"
          ]
        }
      ],
      "source": [
        "# GC content - higher GC content implies more stable molecule due to G and C forming triple hydrogen bonds\n",
        "from Bio.SeqUtils import gc_fraction\n",
        "print(f'The GC content of Mpox genome is {gc_fraction}%')\n",
        "a = gc_fraction(Mpox_dna)\n",
        "GC = a*100"
      ]
    },
    {
      "cell_type": "code",
      "source": [
        "# prompt: call <function gc_fraction at 0x7cb2ac3e24d0>%\n",
        "\n",
        "GC\n"
      ],
      "metadata": {
        "colab": {
          "base_uri": "https://localhost:8080/"
        },
        "id": "hlfk-ul00vFS",
        "outputId": "201ac684-1892-4f87-a8ba-aed886a6165e"
      },
      "id": "hlfk-ul00vFS",
      "execution_count": 8,
      "outputs": [
        {
          "output_type": "execute_result",
          "data": {
            "text/plain": [
              "33.029932710981754"
            ]
          },
          "metadata": {},
          "execution_count": 8
        }
      ]
    },
    {
      "cell_type": "markdown",
      "id": "1a0c848d",
      "metadata": {
        "id": "1a0c848d"
      },
      "source": [
        "### Distribution of nucleotides in Mpox genome\n",
        "\n",
        "> Add blockquote\n",
        "\n",
        "> Add blockquote\n",
        "\n",
        "\n",
        "\n",
        "protein pppppppppppppppppppppp\n",
        "\n",
        "\n",
        "\n",
        "\n",
        "\n",
        "pppppprintpppppppppppp"
      ]
    },
    {
      "cell_type": "code",
      "execution_count": 12,
      "id": "8a4ff4e5",
      "metadata": {
        "id": "8a4ff4e5"
      },
      "outputs": [],
      "source": [
        "count_nucleotides = {\n",
        "    'A': Mpox_dna.count('A'),\n",
        "    'T': Mpox_dna.count('T'),\n",
        "    'C': Mpox_dna.count('C'),\n",
        "    'G': Mpox_dna.count('G')\n",
        "}"
      ]
    },
    {
      "cell_type": "code",
      "execution_count": 13,
      "id": "fa9ffb4b",
      "metadata": {
        "colab": {
          "base_uri": "https://localhost:8080/"
        },
        "id": "fa9ffb4b",
        "outputId": "d0ddd16e-7b62-49f1-9166-5d950c4a334c"
      },
      "outputs": [
        {
          "output_type": "execute_result",
          "data": {
            "text/plain": [
              "{'A': 66193, 'T': 65878, 'C': 32602, 'G': 32536}"
            ]
          },
          "metadata": {},
          "execution_count": 13
        }
      ],
      "source": [
        "count_nucleotides"
      ]
    },
    {
      "cell_type": "code",
      "execution_count": 14,
      "id": "b84945e7",
      "metadata": {
        "colab": {
          "base_uri": "https://localhost:8080/",
          "height": 489
        },
        "id": "b84945e7",
        "outputId": "95d51fbf-bfed-4457-e8e6-880fc2cc00aa"
      },
      "outputs": [
        {
          "output_type": "execute_result",
          "data": {
            "text/plain": [
              "Text(0.5, 1.0, 'Nucleotide Frequency')"
            ]
          },
          "metadata": {},
          "execution_count": 14
        },
        {
          "output_type": "display_data",
          "data": {
            "text/plain": [
              "<Figure size 640x480 with 1 Axes>"
            ],
            "image/png": "[encoded data removed]"
          },
          "metadata": {}
        }
      ],
      "source": [
        "import matplotlib.pyplot as plt\n",
        "width = 0.5\n",
        "plt.bar(count_nucleotides.keys(), count_nucleotides.values(), width, color=['b', 'r', 'm', 'c'])\n",
        "plt.xlabel('Nucleotide')\n",
        "plt.ylabel('Frequency')\n",
        "plt.title('Nucleotide Frequency')"
      ]
    },
    {
      "cell_type": "markdown",
      "id": "95282b5a",
      "metadata": {
        "id": "95282b5a"
      },
      "source": [
        "First observation: The frequency of the nucleotides A and T is higher than the frequency of C and G."
      ]
    },
    {
      "cell_type": "markdown",
      "id": "4fd9d2e7",
      "metadata": {
        "id": "4fd9d2e7"
      },
      "source": [
        "Understanding this genetic information is the key to find cures and vaccines. So, the question here is: How do we extract information from this long sequence of letters?\n",
        "\n",
        "This process is called gene expression: Gene expression is the process by which information from a gene is used in the synthesis of a functional gene product. These products are often proteins"
      ]
    },
    {
      "cell_type": "markdown",
      "id": "f3dceb27",
      "metadata": {
        "id": "f3dceb27"
      },
      "source": [
        "### Transcription\n",
        "Transcription is the first step in gene expression. It involves copying a gene's DNA sequence to make an RNA molecule."
      ]
    },
    {
      "cell_type": "code",
      "execution_count": 16,
      "id": "37abeb90",
      "metadata": {
        "colab": {
          "base_uri": "https://localhost:8080/"
        },
        "id": "37abeb90",
        "outputId": "fd196483-e184-4741-ed62-d8cc2e4a7a6d"
      },
      "outputs": [
        {
          "output_type": "execute_result",
          "data": {
            "text/plain": [
              "Seq('AUUUUACUAUUUUAUUUAGUGUCUAGAAAAAAAUGUGUGACCCACGACCGUAGG...AAU')"
            ]
          },
          "metadata": {},
          "execution_count": 16
        }
      ],
      "source": [
        "Mpox_mrna = Mpox_dna.transcribe()\n",
        "Mpox_mrna"
      ]
    },
    {
      "cell_type": "markdown",
      "id": "f522814b",
      "metadata": {
        "id": "f522814b"
      },
      "source": [
        "### Translation\n",
        "Translation is the process that takes the information passed from DNA as messenger RNA and turns it into a series of amino acids."
      ]
    },
    {
      "cell_type": "code",
      "execution_count": 17,
      "id": "22412b63",
      "metadata": {
        "colab": {
          "base_uri": "https://localhost:8080/"
        },
        "id": "22412b63",
        "outputId": "31fcd79e-ef34-4eb1-e0cd-0129a1e084d9"
      },
      "outputs": [
        {
          "output_type": "stream",
          "name": "stderr",
          "text": [
            "/usr/local/lib/python3.10/dist-packages/Bio/Seq.py:2879: BiopythonWarning: Partial codon, len(sequence) not a multiple of three. Explicitly trim the sequence or add trailing N before translation. This may become an error in future.\n",
            "  warnings.warn(\n"
          ]
        },
        {
          "output_type": "execute_result",
          "data": {
            "text/plain": [
              "Seq('ILLFYLVSRKKCVTHDRRKL*RVRKINRL*RPSERGLIFL*DLSKRERIKTFYD...IVK')"
            ]
          },
          "metadata": {},
          "execution_count": 17
        }
      ],
      "source": [
        "Mpox_aa = Mpox_mrna.translate()\n",
        "Mpox_aa"
      ]
    },
    {
      "cell_type": "code",
      "execution_count": 18,
      "id": "8045a7de",
      "metadata": {
        "colab": {
          "base_uri": "https://localhost:8080/"
        },
        "id": "8045a7de",
        "outputId": "bd93634f-d029-43ad-baac-ceeb6ab5b2bb"
      },
      "outputs": [
        {
          "output_type": "execute_result",
          "data": {
            "text/plain": [
              "[('L', 6920),\n",
              " ('I', 6772),\n",
              " ('S', 5568),\n",
              " ('*', 4471),\n",
              " ('Y', 3834),\n",
              " ('R', 3793),\n",
              " ('F', 3676),\n",
              " ('T', 3578),\n",
              " ('V', 3551),\n",
              " ('N', 3437)]"
            ]
          },
          "metadata": {},
          "execution_count": 18
        }
      ],
      "source": [
        "#most common amino acids\n",
        "from collections import Counter\n",
        "common_amino = Counter(Mpox_aa)\n",
        "common_amino.most_common(10)"
      ]
    },
    {
      "cell_type": "code",
      "execution_count": 19,
      "id": "02ef9e78",
      "metadata": {
        "colab": {
          "base_uri": "https://localhost:8080/",
          "height": 489
        },
        "id": "02ef9e78",
        "outputId": "b9369b7b-44ea-4ae5-ff99-91964b5c6760"
      },
      "outputs": [
        {
          "output_type": "execute_result",
          "data": {
            "text/plain": [
              "Text(0.5, 1.0, 'Protein Sequence Frequency')"
            ]
          },
          "metadata": {},
          "execution_count": 19
        },
        {
          "output_type": "display_data",
          "data": {
            "text/plain": [
              "<Figure size 640x480 with 1 Axes>"
            ],
            "image/png": "[encoded data removed]"
          },
          "metadata": {}
        }
      ],
      "source": [
        "del common_amino['*']\n",
        "\n",
        "width = 0.5\n",
        "plt.bar(common_amino.keys(), common_amino.values(), width, color=['b', 'r', 'm', 'c'])\n",
        "plt.xlabel('Amino Acid')\n",
        "plt.ylabel('Frequency')\n",
        "plt.title('Protein Sequence Frequency')"
      ]
    },
    {
      "cell_type": "code",
      "execution_count": 20,
      "id": "f8c7254e",
      "metadata": {
        "colab": {
          "base_uri": "https://localhost:8080/"
        },
        "id": "f8c7254e",
        "outputId": "b8c863f4-e9e5-4662-f226-6a0e376f96f8"
      },
      "outputs": [
        {
          "output_type": "stream",
          "name": "stdout",
          "text": [
            "Mpox's genome has 61265 amino acids\n"
          ]
        }
      ],
      "source": [
        "print(f\"Mpox's genome has {sum(common_amino.values())} amino acids\")"
      ]
    },
    {
      "cell_type": "markdown",
      "id": "29e618b1",
      "metadata": {
        "id": "29e618b1"
      },
      "source": [
        "The split() function splits the sequence at any stop codon and keeps the amino acids chains separated. This makes it easier for further analysis."
      ]
    },
    {
      "cell_type": "code",
      "execution_count": 21,
      "id": "6630a88c",
      "metadata": {
        "id": "6630a88c"
      },
      "outputs": [],
      "source": [
        "proteins = Mpox_aa.split('*')"
      ]
    },
    {
      "cell_type": "code",
      "execution_count": 22,
      "id": "4f03ee1e",
      "metadata": {
        "colab": {
          "base_uri": "https://localhost:8080/"
        },
        "id": "4f03ee1e",
        "outputId": "9329d154-d864-4e54-ba5b-e6e8f9c1eeed"
      },
      "outputs": [
        {
          "output_type": "execute_result",
          "data": {
            "text/plain": [
              "[Seq('ILLFYLVSRKKCVTHDRRKL'),\n",
              " Seq('RVRKINRL'),\n",
              " Seq('RPSERGLIFL'),\n",
              " Seq('DLSKRERIKTFYDSIRKRFNIFVRPIEERKRWLVKIFFLVQKSMF'),\n",
              " Seq('NIWTRINLSV')]"
            ]
          },
          "metadata": {},
          "execution_count": 22
        }
      ],
      "source": [
        "proteins[:5]"
      ]
    },
    {
      "cell_type": "code",
      "execution_count": 23,
      "id": "4cdb57fe",
      "metadata": {
        "colab": {
          "base_uri": "https://localhost:8080/"
        },
        "id": "4cdb57fe",
        "outputId": "5a1b6d69-1a8a-4d9b-b77c-b32f7e837f6b"
      },
      "outputs": [
        {
          "output_type": "stream",
          "name": "stdout",
          "text": [
            "We have 4472 amino acids in the Mpox genome\n"
          ]
        }
      ],
      "source": [
        "print(f'We have {len(proteins)} amino acids in the Mpox genome')"
      ]
    },
    {
      "cell_type": "markdown",
      "id": "b1a1c143",
      "metadata": {
        "id": "b1a1c143"
      },
      "source": [
        "It's worth to mention that not all the amino acids sequences are proteins. Only the sequences with more than 20 amino acids code for functional proteins. The short amino acid sequences are oligopeptides and have other functionalities. Here, we will focus on the chains with more than 20 amino acid chains: Proteins."
      ]
    },
    {
      "cell_type": "code",
      "execution_count": 24,
      "id": "11a8bafc",
      "metadata": {
        "id": "11a8bafc"
      },
      "outputs": [],
      "source": [
        "for protein in proteins:\n",
        "    if len(protein) < 20:\n",
        "        proteins.remove(protein)"
      ]
    },
    {
      "cell_type": "code",
      "execution_count": 25,
      "id": "49dee6b0",
      "metadata": {
        "colab": {
          "base_uri": "https://localhost:8080/"
        },
        "id": "49dee6b0",
        "outputId": "0657e997-27f7-4ad0-b458-32d6c2bfd0e6"
      },
      "outputs": [
        {
          "output_type": "stream",
          "name": "stdout",
          "text": [
            "We have 2473 proteins with more than 20 amino acids in the Mpox genome\n"
          ]
        }
      ],
      "source": [
        "print(f'We have {len(proteins)} proteins with more than 20 amino acids in the Mpox genome')"
      ]
    },
    {
      "cell_type": "code",
      "execution_count": 26,
      "id": "5ace55cf",
      "metadata": {
        "id": "5ace55cf"
      },
      "outputs": [],
      "source": [
        "top_5_proteins = sorted(proteins, key = len)"
      ]
    },
    {
      "cell_type": "code",
      "execution_count": 27,
      "id": "ad15053d",
      "metadata": {
        "colab": {
          "base_uri": "https://localhost:8080/"
        },
        "id": "ad15053d",
        "outputId": "96b636fb-a8b5-4cfa-fc9a-421ab0582c1c"
      },
      "outputs": [
        {
          "output_type": "execute_result",
          "data": {
            "text/plain": [
              "Seq('MDAAIRGNDVIFVLKTIGVPSACRQNEDPRFVEAFKCDELERYIDNNPECTLFE...SSP')"
            ]
          },
          "metadata": {},
          "execution_count": 27
        }
      ],
      "source": [
        "top_5_proteins[-1]"
      ]
    },
    {
      "cell_type": "code",
      "execution_count": 28,
      "id": "1951a5f5",
      "metadata": {
        "colab": {
          "base_uri": "https://localhost:8080/"
        },
        "id": "1951a5f5",
        "outputId": "0d630d90-954d-458c-d91f-47d7054be7e4"
      },
      "outputs": [
        {
          "output_type": "execute_result",
          "data": {
            "text/plain": [
              "785"
            ]
          },
          "metadata": {},
          "execution_count": 28
        }
      ],
      "source": [
        "len(top_5_proteins[-1])"
      ]
    },
    {
      "cell_type": "markdown",
      "id": "13df78bb",
      "metadata": {
        "id": "13df78bb"
      },
      "source": [
        "Save this protein to file for further analysis"
      ]
    },
    {
      "cell_type": "code",
      "execution_count": 29,
      "id": "be05c8eb",
      "metadata": {
        "id": "be05c8eb"
      },
      "outputs": [],
      "source": [
        "with open(\"protein_seq.fasta\", \"w\") as file:\n",
        "    file.write(f\">Mpox protein\\n{top_5_proteins[-1]}\")"
      ]
    },
    {
      "cell_type": "markdown",
      "id": "f55f402d",
      "metadata": {
        "id": "f55f402d"
      },
      "source": [
        "## Summary of Findings\n",
        "- Sequence length: 197209 base pairs\n",
        "- GC content: 33.02%\n",
        "- Has high amount of Leucine L and Serine S\n",
        "- 2473 proteins with more than 20 amino acids\n",
        "- The largest protein is of length of 785 amino acid.\n"
      ]
    },
    {
      "cell_type": "code",
      "source": [
        "top_5_proteins[-1]"
      ],
      "metadata": {
        "colab": {
          "base_uri": "https://localhost:8080/"
        },
        "id": "SVh4sBFsgEqn",
        "outputId": "6e6c84c4-1cb5-4600-8df1-a79929c6b0c8"
      },
      "id": "SVh4sBFsgEqn",
      "execution_count": 30,
      "outputs": [
        {
          "output_type": "execute_result",
          "data": {
            "text/plain": [
              "Seq('MDAAIRGNDVIFVLKTIGVPSACRQNEDPRFVEAFKCDELERYIDNNPECTLFE...SSP')"
            ]
          },
          "metadata": {},
          "execution_count": 30
        }
      ]
    },
    {
      "cell_type": "code",
      "source": [],
      "metadata": {
        "id": "Bc79kCXhgYFF"
      },
      "id": "Bc79kCXhgYFF",
      "execution_count": null,
      "outputs": []
    }
  ],
  "metadata": {
    "kernelspec": {
      "display_name": "Python (biopython-env)",
      "language": "python",
      "name": "12daysofbiopython-env"
    },
    "language_info": {
      "codemirror_mode": {
        "name": "ipython",
        "version": 3
      },
      "file_extension": ".py",
      "mimetype": "text/x-python",
      "name": "python",
      "nbconvert_exporter": "python",
      "pygments_lexer": "ipython3",
      "version": "3.8.12"
    },
    "colab": {
      "provenance": []
    }
  },
  "nbformat": 4,
  "nbformat_minor": 5
}